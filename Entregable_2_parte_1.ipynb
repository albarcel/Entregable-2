{
  "nbformat": 4,
  "nbformat_minor": 0,
  "metadata": {
    "colab": {
      "name": "Entregable_2_parte_1.ipynb",
      "version": "0.3.2",
      "provenance": [],
      "include_colab_link": true
    },
    "kernelspec": {
      "name": "python3",
      "display_name": "Python 3"
    }
  },
  "cells": [
    {
      "cell_type": "markdown",
      "metadata": {
        "id": "view-in-github",
        "colab_type": "text"
      },
      "source": [
        "<a href=\"https://colab.research.google.com/github/albarcel/Entregable-2/blob/master/Entregable_2_parte_1.ipynb\" target=\"_parent\"><img src=\"https://colab.research.google.com/assets/colab-badge.svg\" alt=\"Open In Colab\"/></a>"
      ]
    },
    {
      "metadata": {
        "id": "4GB5dtdzQzN3",
        "colab_type": "text"
      },
      "cell_type": "markdown",
      "source": [
        "Comenzamos cargando las librerías necesarias"
      ]
    },
    {
      "metadata": {
        "id": "B8FIdraxQWaP",
        "colab_type": "code",
        "colab": {}
      },
      "cell_type": "code",
      "source": [
        "import numpy as np\n",
        "import pandas as pd"
      ],
      "execution_count": 0,
      "outputs": []
    },
    {
      "metadata": {
        "id": "vtDAqS3mTaQu",
        "colab_type": "code",
        "colab": {
          "base_uri": "https://localhost:8080/",
          "height": 204
        },
        "outputId": "54ceb3f5-82e7-49fa-9f67-21d4b42a772e"
      },
      "cell_type": "code",
      "source": [
        "!wget https://raw.githubusercontent.com/albarcel/Entregable-2/master/train.csv -O train.csv"
      ],
      "execution_count": 17,
      "outputs": [
        {
          "output_type": "stream",
          "text": [
            "--2019-04-15 09:30:43--  https://raw.githubusercontent.com/albarcel/Entregable-2/master/train.csv\n",
            "Resolving raw.githubusercontent.com (raw.githubusercontent.com)... 151.101.0.133, 151.101.64.133, 151.101.128.133, ...\n",
            "Connecting to raw.githubusercontent.com (raw.githubusercontent.com)|151.101.0.133|:443... connected.\n",
            "HTTP request sent, awaiting response... 200 OK\n",
            "Length: 19171 (19K) [text/plain]\n",
            "Saving to: ‘train.csv’\n",
            "\n",
            "\rtrain.csv             0%[                    ]       0  --.-KB/s               \rtrain.csv           100%[===================>]  18.72K  --.-KB/s    in 0.01s   \n",
            "\n",
            "2019-04-15 09:30:44 (1.50 MB/s) - ‘train.csv’ saved [19171/19171]\n",
            "\n"
          ],
          "name": "stdout"
        }
      ]
    },
    {
      "metadata": {
        "id": "_HO9RztrVsM2",
        "colab_type": "text"
      },
      "cell_type": "markdown",
      "source": [
        "Cargamos el dataset de entrenamiento y a continuación mostramos las primeras 5 instancias del dataset"
      ]
    },
    {
      "metadata": {
        "id": "vdflDrbwQpQu",
        "colab_type": "code",
        "colab": {
          "base_uri": "https://localhost:8080/",
          "height": 204
        },
        "outputId": "a296e96a-432a-4d11-f9f0-6477de8e785e"
      },
      "cell_type": "code",
      "source": [
        "df = pd.read_csv('train.csv')\n",
        "df.head()"
      ],
      "execution_count": 19,
      "outputs": [
        {
          "output_type": "execute_result",
          "data": {
            "text/html": [
              "<div>\n",
              "<style scoped>\n",
              "    .dataframe tbody tr th:only-of-type {\n",
              "        vertical-align: middle;\n",
              "    }\n",
              "\n",
              "    .dataframe tbody tr th {\n",
              "        vertical-align: top;\n",
              "    }\n",
              "\n",
              "    .dataframe thead th {\n",
              "        text-align: right;\n",
              "    }\n",
              "</style>\n",
              "<table border=\"1\" class=\"dataframe\">\n",
              "  <thead>\n",
              "    <tr style=\"text-align: right;\">\n",
              "      <th></th>\n",
              "      <th>Age</th>\n",
              "      <th>Gender</th>\n",
              "      <th>Total_Bilirubin</th>\n",
              "      <th>Direct_Bilirubin</th>\n",
              "      <th>Alkaline_Phosphotase</th>\n",
              "      <th>Alamine_Aminotransferase</th>\n",
              "      <th>Aspartate_Aminotransferase</th>\n",
              "      <th>Total_Protiens</th>\n",
              "      <th>Albumin</th>\n",
              "      <th>Albumin_and_Globulin_Ratio</th>\n",
              "      <th>Prediction</th>\n",
              "    </tr>\n",
              "  </thead>\n",
              "  <tbody>\n",
              "    <tr>\n",
              "      <th>0</th>\n",
              "      <td>40</td>\n",
              "      <td>Male</td>\n",
              "      <td>1.9</td>\n",
              "      <td>1.0</td>\n",
              "      <td>231</td>\n",
              "      <td>16</td>\n",
              "      <td>55</td>\n",
              "      <td>4.3</td>\n",
              "      <td>1.6</td>\n",
              "      <td>0.6</td>\n",
              "      <td>False</td>\n",
              "    </tr>\n",
              "    <tr>\n",
              "      <th>1</th>\n",
              "      <td>64</td>\n",
              "      <td>Male</td>\n",
              "      <td>0.9</td>\n",
              "      <td>0.3</td>\n",
              "      <td>310</td>\n",
              "      <td>61</td>\n",
              "      <td>58</td>\n",
              "      <td>7.0</td>\n",
              "      <td>3.4</td>\n",
              "      <td>0.9</td>\n",
              "      <td>True</td>\n",
              "    </tr>\n",
              "    <tr>\n",
              "      <th>2</th>\n",
              "      <td>40</td>\n",
              "      <td>Female</td>\n",
              "      <td>2.1</td>\n",
              "      <td>1.0</td>\n",
              "      <td>768</td>\n",
              "      <td>74</td>\n",
              "      <td>141</td>\n",
              "      <td>7.8</td>\n",
              "      <td>4.9</td>\n",
              "      <td>1.6</td>\n",
              "      <td>False</td>\n",
              "    </tr>\n",
              "    <tr>\n",
              "      <th>3</th>\n",
              "      <td>32</td>\n",
              "      <td>Male</td>\n",
              "      <td>25.0</td>\n",
              "      <td>13.7</td>\n",
              "      <td>560</td>\n",
              "      <td>41</td>\n",
              "      <td>88</td>\n",
              "      <td>7.9</td>\n",
              "      <td>2.5</td>\n",
              "      <td>2.5</td>\n",
              "      <td>False</td>\n",
              "    </tr>\n",
              "    <tr>\n",
              "      <th>4</th>\n",
              "      <td>48</td>\n",
              "      <td>Male</td>\n",
              "      <td>0.7</td>\n",
              "      <td>0.2</td>\n",
              "      <td>326</td>\n",
              "      <td>29</td>\n",
              "      <td>17</td>\n",
              "      <td>8.7</td>\n",
              "      <td>5.5</td>\n",
              "      <td>1.7</td>\n",
              "      <td>False</td>\n",
              "    </tr>\n",
              "  </tbody>\n",
              "</table>\n",
              "</div>"
            ],
            "text/plain": [
              "   Age  Gender  Total_Bilirubin  Direct_Bilirubin  Alkaline_Phosphotase  \\\n",
              "0   40    Male              1.9               1.0                   231   \n",
              "1   64    Male              0.9               0.3                   310   \n",
              "2   40  Female              2.1               1.0                   768   \n",
              "3   32    Male             25.0              13.7                   560   \n",
              "4   48    Male              0.7               0.2                   326   \n",
              "\n",
              "   Alamine_Aminotransferase  Aspartate_Aminotransferase  Total_Protiens  \\\n",
              "0                        16                          55             4.3   \n",
              "1                        61                          58             7.0   \n",
              "2                        74                         141             7.8   \n",
              "3                        41                          88             7.9   \n",
              "4                        29                          17             8.7   \n",
              "\n",
              "   Albumin  Albumin_and_Globulin_Ratio  Prediction  \n",
              "0      1.6                         0.6       False  \n",
              "1      3.4                         0.9        True  \n",
              "2      4.9                         1.6       False  \n",
              "3      2.5                         2.5       False  \n",
              "4      5.5                         1.7       False  "
            ]
          },
          "metadata": {
            "tags": []
          },
          "execution_count": 19
        }
      ]
    },
    {
      "metadata": {
        "id": "-dFucE5fXjZu",
        "colab_type": "text"
      },
      "cell_type": "markdown",
      "source": [
        "**Pregunta**. ¿Cuál es el porcentaje de predicción de que los pacientes tendrán una enfermedad en el hígado?"
      ]
    },
    {
      "metadata": {
        "id": "EcVd8GqWXi82",
        "colab_type": "code",
        "colab": {
          "base_uri": "https://localhost:8080/",
          "height": 34
        },
        "outputId": "3bba261b-cc6c-4a1f-b678-e0c8e41c7d15"
      },
      "cell_type": "code",
      "source": [
        "df['Prediction'].mean()"
      ],
      "execution_count": 21,
      "outputs": [
        {
          "output_type": "execute_result",
          "data": {
            "text/plain": [
              "0.2906178489702517"
            ]
          },
          "metadata": {
            "tags": []
          },
          "execution_count": 21
        }
      ]
    },
    {
      "metadata": {
        "id": "U3_3giV-X4tm",
        "colab_type": "text"
      },
      "cell_type": "markdown",
      "source": [
        "**Respuesta**. El 29% de los pacientes tendrá la enfermedad del hígado"
      ]
    },
    {
      "metadata": {
        "id": "kD-Ft3RXYK22",
        "colab_type": "text"
      },
      "cell_type": "markdown",
      "source": [
        "**Pregunta**. ¿Cuántas mujeres tiene la enfermedad del hígado?"
      ]
    },
    {
      "metadata": {
        "id": "3s431NcXYTK-",
        "colab_type": "code",
        "colab": {
          "base_uri": "https://localhost:8080/",
          "height": 142
        },
        "outputId": "47b2d443-3529-493e-81d0-289cd006f46c"
      },
      "cell_type": "code",
      "source": [
        "pd.crosstab(df['Gender'], df['Prediction'])"
      ],
      "execution_count": 23,
      "outputs": [
        {
          "output_type": "execute_result",
          "data": {
            "text/html": [
              "<div>\n",
              "<style scoped>\n",
              "    .dataframe tbody tr th:only-of-type {\n",
              "        vertical-align: middle;\n",
              "    }\n",
              "\n",
              "    .dataframe tbody tr th {\n",
              "        vertical-align: top;\n",
              "    }\n",
              "\n",
              "    .dataframe thead th {\n",
              "        text-align: right;\n",
              "    }\n",
              "</style>\n",
              "<table border=\"1\" class=\"dataframe\">\n",
              "  <thead>\n",
              "    <tr style=\"text-align: right;\">\n",
              "      <th>Prediction</th>\n",
              "      <th>False</th>\n",
              "      <th>True</th>\n",
              "    </tr>\n",
              "    <tr>\n",
              "      <th>Gender</th>\n",
              "      <th></th>\n",
              "      <th></th>\n",
              "    </tr>\n",
              "  </thead>\n",
              "  <tbody>\n",
              "    <tr>\n",
              "      <th>Female</th>\n",
              "      <td>68</td>\n",
              "      <td>42</td>\n",
              "    </tr>\n",
              "    <tr>\n",
              "      <th>Male</th>\n",
              "      <td>242</td>\n",
              "      <td>85</td>\n",
              "    </tr>\n",
              "  </tbody>\n",
              "</table>\n",
              "</div>"
            ],
            "text/plain": [
              "Prediction  False  True \n",
              "Gender                  \n",
              "Female         68     42\n",
              "Male          242     85"
            ]
          },
          "metadata": {
            "tags": []
          },
          "execution_count": 23
        }
      ]
    },
    {
      "metadata": {
        "id": "iqijln8BYuNV",
        "colab_type": "text"
      },
      "cell_type": "markdown",
      "source": [
        "**Respuesta**. Hay 42 mujeres que parecen está enfermedad."
      ]
    },
    {
      "metadata": {
        "id": "Tphmyns7Y1NF",
        "colab_type": "text"
      },
      "cell_type": "markdown",
      "source": [
        "**Pregunta**. ¿Cuál es la proporción entre hombre y mujeres que parecen la enfermedad?"
      ]
    },
    {
      "metadata": {
        "id": "ubp-OWQwQpOn",
        "colab_type": "code",
        "colab": {
          "base_uri": "https://localhost:8080/",
          "height": 68
        },
        "outputId": "d77f4d36-4aa3-4cf6-b95c-dccfb79677e1"
      },
      "cell_type": "code",
      "source": [
        "df['Gender'].value_counts(normalize=True)"
      ],
      "execution_count": 24,
      "outputs": [
        {
          "output_type": "execute_result",
          "data": {
            "text/plain": [
              "Male      0.748284\n",
              "Female    0.251716\n",
              "Name: Gender, dtype: float64"
            ]
          },
          "metadata": {
            "tags": []
          },
          "execution_count": 24
        }
      ]
    },
    {
      "metadata": {
        "id": "bPWcl5SEZSud",
        "colab_type": "text"
      },
      "cell_type": "markdown",
      "source": [
        "**Respuesta**. De los que tienen la enfermedad 74,82% son hombre y  el 25,17% son mujeres."
      ]
    },
    {
      "metadata": {
        "id": "-dxAf5m1Z27F",
        "colab_type": "text"
      },
      "cell_type": "markdown",
      "source": [
        "**Pregunta**. ¿Cuál es la media de edad de los pacientes?"
      ]
    },
    {
      "metadata": {
        "id": "OL6EtuEDQpL_",
        "colab_type": "code",
        "colab": {
          "base_uri": "https://localhost:8080/",
          "height": 34
        },
        "outputId": "4f9fafc2-09f0-4e59-b49c-6af44fd61087"
      },
      "cell_type": "code",
      "source": [
        "df['Age'].mean()"
      ],
      "execution_count": 33,
      "outputs": [
        {
          "output_type": "execute_result",
          "data": {
            "text/plain": [
              "44.88100686498856"
            ]
          },
          "metadata": {
            "tags": []
          },
          "execution_count": 33
        }
      ]
    },
    {
      "metadata": {
        "id": "gOqfKTGubHV-",
        "colab_type": "text"
      },
      "cell_type": "markdown",
      "source": [
        "**Respuesta**. La media de edad es de 44, 88 años."
      ]
    },
    {
      "metadata": {
        "id": "NGSaTSXjbNT9",
        "colab_type": "text"
      },
      "cell_type": "markdown",
      "source": [
        "**Pregunta**. ¿Cuál es la media de los atributos respecto de si parecen o no la enfermedad?"
      ]
    },
    {
      "metadata": {
        "id": "vMrbfsNkQpJO",
        "colab_type": "code",
        "colab": {
          "base_uri": "https://localhost:8080/",
          "height": 204
        },
        "outputId": "21ab135c-ceba-4f1a-b884-e82dcf84d2bf"
      },
      "cell_type": "code",
      "source": [
        "df[df['Prediction'] == 1].mean()"
      ],
      "execution_count": 42,
      "outputs": [
        {
          "output_type": "execute_result",
          "data": {
            "text/plain": [
              "Age                            41.456693\n",
              "Total_Bilirubin                 1.148031\n",
              "Direct_Bilirubin                0.403150\n",
              "Alkaline_Phosphotase          226.425197\n",
              "Alamine_Aminotransferase       34.637795\n",
              "Aspartate_Aminotransferase     43.086614\n",
              "Total_Protiens                  6.605512\n",
              "Albumin                         3.358268\n",
              "Albumin_and_Globulin_Ratio      1.014016\n",
              "Prediction                      1.000000\n",
              "dtype: float64"
            ]
          },
          "metadata": {
            "tags": []
          },
          "execution_count": 42
        }
      ]
    },
    {
      "metadata": {
        "id": "93w2xX0ncZbl",
        "colab_type": "code",
        "colab": {
          "base_uri": "https://localhost:8080/",
          "height": 204
        },
        "outputId": "1ccf9b3c-149a-4cd3-8560-8ded93c20c19"
      },
      "cell_type": "code",
      "source": [
        "df[df['Prediction'] == 0].mean()"
      ],
      "execution_count": 41,
      "outputs": [
        {
          "output_type": "execute_result",
          "data": {
            "text/plain": [
              "Age                            46.283871\n",
              "Total_Bilirubin                 4.170000\n",
              "Direct_Bilirubin                1.923226\n",
              "Alkaline_Phosphotase          317.112903\n",
              "Alamine_Aminotransferase      104.303226\n",
              "Aspartate_Aminotransferase    143.348387\n",
              "Total_Protiens                  6.491613\n",
              "Albumin                         3.107097\n",
              "Albumin_and_Globulin_Ratio      0.935387\n",
              "Prediction                      0.000000\n",
              "dtype: float64"
            ]
          },
          "metadata": {
            "tags": []
          },
          "execution_count": 41
        }
      ]
    },
    {
      "metadata": {
        "id": "xvic3jA6cG1N",
        "colab_type": "text"
      },
      "cell_type": "markdown",
      "source": [
        "**Respuesta**. Así podemos observar las diferencias entre los atributos."
      ]
    }
  ]
}